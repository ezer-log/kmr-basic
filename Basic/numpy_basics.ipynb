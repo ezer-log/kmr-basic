{
 "cells": [
  {
   "attachments": {},
   "cell_type": "markdown",
   "metadata": {},
   "source": [
    "# Numpy 기본 사용법 - 동빈나 [Python 데이터 분석과 이미지 처리]"
   ]
  },
  {
   "attachments": {},
   "cell_type": "markdown",
   "metadata": {},
   "source": [
    "## Numpy 기본 사용법"
   ]
  },
  {
   "cell_type": "code",
   "execution_count": 1,
   "metadata": {},
   "outputs": [],
   "source": [
    "import numpy as np"
   ]
  },
  {
   "cell_type": "code",
   "execution_count": 3,
   "metadata": {},
   "outputs": [
    {
     "name": "stdout",
     "output_type": "stream",
     "text": [
      "[0 1 2 3]\n"
     ]
    }
   ],
   "source": [
    "# 0부터 3까지의 배열 만들기\n",
    "array1 = np.arange(4)\n",
    "print(array1)"
   ]
  },
  {
   "cell_type": "code",
   "execution_count": 5,
   "metadata": {},
   "outputs": [
    {
     "name": "stdout",
     "output_type": "stream",
     "text": [
      "[[0. 0. 0. 0.]\n",
      " [0. 0. 0. 0.]\n",
      " [0. 0. 0. 0.]\n",
      " [0. 0. 0. 0.]]\n"
     ]
    }
   ],
   "source": [
    "# 4x4 크기의 2차원 배열을 만들고, 모든 값들이 0으로 초기화 되어있고, 그 값들이 다 float\n",
    "array2 = np.zeros((4,4), dtype=float)\n",
    "print(array2)"
   ]
  },
  {
   "cell_type": "code",
   "execution_count": 6,
   "metadata": {},
   "outputs": [
    {
     "name": "stdout",
     "output_type": "stream",
     "text": [
      "[['1' '1' '1']\n",
      " ['1' '1' '1']\n",
      " ['1' '1' '1']]\n"
     ]
    }
   ],
   "source": [
    "# 값이 1로 초기화, 문자열로\n",
    "array3 = np.ones((3,3), dtype=str)\n",
    "print(array3)"
   ]
  },
  {
   "cell_type": "code",
   "execution_count": 7,
   "metadata": {},
   "outputs": [
    {
     "name": "stdout",
     "output_type": "stream",
     "text": [
      "[[5 1 2]\n",
      " [0 2 3]\n",
      " [7 8 9]]\n"
     ]
    }
   ],
   "source": [
    "# 0 부터 9까지 랜덤하게 초기화 된 배열 만들기\n",
    "# 3x3 크기의 배열, 0~9사이의 숫자\n",
    "array4 = np.random.randint(0,10,(3,3))\n",
    "print(array4)"
   ]
  },
  {
   "cell_type": "code",
   "execution_count": 8,
   "metadata": {},
   "outputs": [
    {
     "name": "stdout",
     "output_type": "stream",
     "text": [
      "[[-1.2244386   0.36108121  0.16157211]\n",
      " [ 0.73116654 -0.72087137 -0.26938426]\n",
      " [-0.3372711   0.65649974  0.08115187]]\n"
     ]
    }
   ],
   "source": [
    "# 평균이 0이고, 표준편차가 1인 표준 정규를 띄는 배열 (표준정규분포)\n",
    "array5 = np.random.normal(0,1,(3,3))\n",
    "print(array5)"
   ]
  },
  {
   "cell_type": "code",
   "execution_count": 14,
   "metadata": {},
   "outputs": [
    {
     "name": "stdout",
     "output_type": "stream",
     "text": [
      "(6,)\n",
      "[1 2 3 4 5 6]\n"
     ]
    }
   ],
   "source": [
    "# Numpy 배열 합치기\n",
    "\n",
    "array1 = np.array([1,2,3])\n",
    "array2 = np.array([4,5,6])\n",
    "array3 = np.concatenate([array1, array2])\n",
    "print(array3.shape)\n",
    "print(array3)"
   ]
  },
  {
   "cell_type": "code",
   "execution_count": 15,
   "metadata": {},
   "outputs": [
    {
     "name": "stdout",
     "output_type": "stream",
     "text": [
      "[[1 2]\n",
      " [3 4]]\n"
     ]
    }
   ],
   "source": [
    "# Numpy 배열 형태 바꾸기\n",
    "\n",
    "array1 = np.array([1,2,3,4])\n",
    "array2 = array1.reshape((2,2))\n",
    "print(array2)"
   ]
  },
  {
   "cell_type": "code",
   "execution_count": 17,
   "metadata": {},
   "outputs": [
    {
     "name": "stdout",
     "output_type": "stream",
     "text": [
      "[[0 1 2 3]]\n",
      "[[0 1 2 3]\n",
      " [4 5 6 7]]\n",
      "[[0 1 2 3]\n",
      " [0 1 2 3]\n",
      " [4 5 6 7]]\n"
     ]
    }
   ],
   "source": [
    "array1 = np.arange(4).reshape(1,4)\n",
    "array2 = np.arange(8).reshape(2,4)\n",
    "print(array1)\n",
    "print(array2)\n",
    "\n",
    "# 세로축을 기준으로 합치기\n",
    "array3 = np.concatenate([array1, array2], axis=0)\n",
    "print(array3)"
   ]
  },
  {
   "cell_type": "code",
   "execution_count": 18,
   "metadata": {},
   "outputs": [
    {
     "name": "stdout",
     "output_type": "stream",
     "text": [
      "[[0 1 2 3]\n",
      " [4 5 6 7]]\n",
      "(2, 2)\n",
      "(2, 2)\n",
      "[[0 1]\n",
      " [4 5]]\n",
      "[[2 3]\n",
      " [6 7]]\n"
     ]
    }
   ],
   "source": [
    "# 배열 나누기\n",
    "\n",
    "array = np.arange(8).reshape(2,4)\n",
    "print(array)\n",
    "# split 함수 사용, 나누는 기준은 index [2], 그리고 그 index[2]는 열을 의미한다는 axis=1\n",
    "left, right = np.split(array, [2], axis=1)\n",
    "print(left.shape)\n",
    "print(right.shape)\n",
    "print(left)\n",
    "print(right)\n"
   ]
  },
  {
   "attachments": {},
   "cell_type": "markdown",
   "metadata": {},
   "source": [
    "## Numpy의 기본 연산"
   ]
  },
  {
   "cell_type": "code",
   "execution_count": 20,
   "metadata": {},
   "outputs": [
    {
     "name": "stdout",
     "output_type": "stream",
     "text": [
      "[[7 6]\n",
      " [9 1]]\n",
      "[[70 60]\n",
      " [90 10]]\n"
     ]
    }
   ],
   "source": [
    "# 1. Numpy의 상수 연산 : 더하기\n",
    "\n",
    "array = np.random.randint(1,10, size=4).reshape(2,2)\n",
    "print(array)\n",
    "result_array = array * 10\n",
    "print(result_array)"
   ]
  },
  {
   "cell_type": "code",
   "execution_count": 23,
   "metadata": {},
   "outputs": [
    {
     "name": "stdout",
     "output_type": "stream",
     "text": [
      "[[0 1]\n",
      " [2 3]]\n",
      "[0 1]\n",
      "[[0 2]\n",
      " [2 4]]\n"
     ]
    }
   ],
   "source": [
    "# 서로 다른 형태의 배열 연산 => 행 우선으로 수행됨 (Broadcasting)\n",
    "\n",
    "array1 = np.arange(4).reshape(2,2)  # (2 x 2)\n",
    "print(array1)\n",
    "array2 = np.arange(2)             # (1 x 2)\n",
    "print(array2)\n",
    "\n",
    "array3 = array1 + array2\n",
    "print(array3)\n"
   ]
  },
  {
   "cell_type": "code",
   "execution_count": 28,
   "metadata": {},
   "outputs": [
    {
     "name": "stdout",
     "output_type": "stream",
     "text": [
      "[[0 1 2 3]\n",
      " [4 5 6 7]]\n",
      "[[0 1 2 3]\n",
      " [4 5 6 7]]\n",
      "----\n",
      "[[0 1 2 3]\n",
      " [4 5 6 7]\n",
      " [0 1 2 3]\n",
      " [4 5 6 7]]\n",
      "[[0]\n",
      " [1]\n",
      " [2]\n",
      " [3]]\n",
      "[[ 0  1  2  3]\n",
      " [ 5  6  7  8]\n",
      " [ 2  3  4  5]\n",
      " [ 7  8  9 10]]\n"
     ]
    }
   ],
   "source": [
    "# Broadcasting = 형태가 다른 배열을 연산할 수 있도록 배열의 형태를 동적으로 변환\n",
    "\n",
    "array1 = np.arange(0,8).reshape(2,4)\n",
    "print(array1)\n",
    "array2 = np.arange(0,8).reshape(2,4)\n",
    "print(array2)\n",
    "print(\"----\")\n",
    "array3 = np.concatenate([array1, array2], axis=0)\n",
    "print(array3)\n",
    "array4 = np.arange(0,4).reshape(4,1)\n",
    "print(array4)\n",
    "#broadcasting\n",
    "print(array3 + array4)"
   ]
  },
  {
   "cell_type": "code",
   "execution_count": 31,
   "metadata": {},
   "outputs": [
    {
     "name": "stdout",
     "output_type": "stream",
     "text": [
      "[[ 0  1  2  3]\n",
      " [ 4  5  6  7]\n",
      " [ 8  9 10 11]\n",
      " [12 13 14 15]]\n",
      "---\n",
      "[[ True  True  True  True]\n",
      " [ True  True  True  True]\n",
      " [ True  True False False]\n",
      " [False False False False]]\n",
      "---\n",
      "[[100 100 100 100]\n",
      " [100 100 100 100]\n",
      " [100 100  10  11]\n",
      " [ 12  13  14  15]]\n"
     ]
    }
   ],
   "source": [
    "# 마스킹 연산 : 각 원소에 대해 체크\n",
    "\n",
    "array1 = np.arange(16).reshape(4,4)\n",
    "print(array1)\n",
    "print(\"---\")\n",
    "array2 = array1 < 10\n",
    "print(array2)\n",
    "print(\"---\")\n",
    "\n",
    "#마스킹 연산 활용 \n",
    "array1[array2] = 100 # 조건을 만족하는 데이터만 작업을 해주겠다\n",
    "# 10보다 작은 원소만 선택해서 (True인 애들) 100으로 바꿔주겠다는 뜻\n",
    "print(array1)"
   ]
  },
  {
   "cell_type": "code",
   "execution_count": 35,
   "metadata": {},
   "outputs": [
    {
     "name": "stdout",
     "output_type": "stream",
     "text": [
      "[[ 0  1  2  3]\n",
      " [ 4  5  6  7]\n",
      " [ 8  9 10 11]\n",
      " [12 13 14 15]]\n",
      "최대값: 15\n",
      "최소값: 0\n",
      "합계: 120\n",
      "평균값: 7.5\n",
      "첫번째 열 합계:  [24 28 32 36]\n"
     ]
    }
   ],
   "source": [
    "# Numpy 집계 함수\n",
    "\n",
    "array = np.arange(16).reshape(4,4)\n",
    "print(array)\n",
    "print(\"최대값:\", np.max(array))\n",
    "print(\"최소값:\", np.min(array))\n",
    "print(\"합계:\", np.sum(array))\n",
    "print(\"평균값:\", np.mean(array))\n",
    "\n",
    "# 각 열에 대해 집계할 수도 있음\n",
    "print(\"첫번째 열 합계: \", np.sum(array, axis=0))"
   ]
  },
  {
   "attachments": {},
   "cell_type": "markdown",
   "metadata": {},
   "source": [
    "## Numpy의 활용"
   ]
  },
  {
   "attachments": {},
   "cell_type": "markdown",
   "metadata": {},
   "source": [
    "### Numpy의 저장과 불러오기"
   ]
  },
  {
   "cell_type": "code",
   "execution_count": 38,
   "metadata": {},
   "outputs": [
    {
     "name": "stdout",
     "output_type": "stream",
     "text": [
      "[0 1 2 3 4 5 6 7 8 9]\n"
     ]
    }
   ],
   "source": [
    "# 단일 객체 저장 및 불러오기\n",
    "array = np.arange(0,10)\n",
    "np.save('saved.npy', array)\n",
    "\n",
    "result = np.load('saved.npy')\n",
    "print(result)"
   ]
  },
  {
   "cell_type": "code",
   "execution_count": 39,
   "metadata": {},
   "outputs": [
    {
     "name": "stdout",
     "output_type": "stream",
     "text": [
      "[0 1 2 3 4 5 6 7 8 9]\n",
      "[10 11 12 13 14 15 16 17 18 19]\n"
     ]
    }
   ],
   "source": [
    "# 복수 객체 저장 및 불러오기\n",
    "\n",
    "array1 = np.arange(0,10)\n",
    "array2 = np.arange(10,20)\n",
    "np.savez('saved.npz', array1=array1, array2=array2) #savez : 복수의 객체를 파일로 저장할 때 사용, 각각의 객체명도 따로 저장가능\n",
    "\n",
    "data = np.load('saved.npz')\n",
    "result1 = data['array1']\n",
    "result2 = data['array2']\n",
    "print(result1)\n",
    "print(result2)"
   ]
  },
  {
   "attachments": {},
   "cell_type": "markdown",
   "metadata": {},
   "source": [
    "### Numpy 원소의 정렬"
   ]
  },
  {
   "cell_type": "code",
   "execution_count": 40,
   "metadata": {},
   "outputs": [
    {
     "name": "stdout",
     "output_type": "stream",
     "text": [
      "[ 1  3  5  9 10]\n",
      "[10  9  5  3  1]\n"
     ]
    }
   ],
   "source": [
    "# 원소 오름차순 정렬\n",
    "array = np.array([5, 9, 10, 3, 1])\n",
    "\n",
    "array.sort() #기본이 오름차순\n",
    "print(array)\n",
    "\n",
    "#내림차순 정렬\n",
    "print(array[::-1])"
   ]
  },
  {
   "cell_type": "code",
   "execution_count": 42,
   "metadata": {},
   "outputs": [
    {
     "name": "stdout",
     "output_type": "stream",
     "text": [
      "[[ 5  9 10  3  1]\n",
      " [ 8  3  4  2  5]]\n",
      "[[ 5  3  4  2  1]\n",
      " [ 8  9 10  3  5]]\n"
     ]
    }
   ],
   "source": [
    "# 각 열을 기준으로 정렬\n",
    "array = np.array([[5, 9, 10, 3, 1], [8, 3, 4, 2, 5]])\n",
    "print(array)\n",
    "\n",
    "array.sort(axis=0)\n",
    "#정렬할때 기준을 행으로 삼게 되면, 각각의 열을 봤을때 더 큰 행이 아랫쪽으로 내려가게 된다\n",
    "print(array)"
   ]
  },
  {
   "attachments": {},
   "cell_type": "markdown",
   "metadata": {},
   "source": [
    "### 균일한 간격으로 데이터 생성 : linspace"
   ]
  },
  {
   "cell_type": "code",
   "execution_count": 43,
   "metadata": {},
   "outputs": [
    {
     "name": "stdout",
     "output_type": "stream",
     "text": [
      "[ 0.   2.5  5.   7.5 10. ]\n"
     ]
    }
   ],
   "source": [
    "array = np.linspace(0, 10, 5) # 0부터 10 사이를 5개의 데이터가 채우기\n",
    "print(array)"
   ]
  },
  {
   "attachments": {},
   "cell_type": "markdown",
   "metadata": {},
   "source": [
    "### 난수(random수)의 재연 (실행마다 결과 동일)"
   ]
  },
  {
   "cell_type": "code",
   "execution_count": 47,
   "metadata": {},
   "outputs": [
    {
     "name": "stdout",
     "output_type": "stream",
     "text": [
      "[[7 9 7]\n",
      " [8 9 8]]\n"
     ]
    }
   ],
   "source": [
    "print(np.random.randint(0, 10, (2,3)))"
   ]
  },
  {
   "cell_type": "code",
   "execution_count": 48,
   "metadata": {},
   "outputs": [
    {
     "name": "stdout",
     "output_type": "stream",
     "text": [
      "[[4 9 6]\n",
      " [3 3 7]]\n"
     ]
    }
   ],
   "source": [
    "# seed를 사용해서 어떤 값을 기준으로 난수를 만들건지 설정 가능\n",
    "np.random.seed(7)\n",
    "print(np.random.randint(0, 10, (2,3)))\n",
    "# 실행할때마다 난수의 결과가 동일"
   ]
  },
  {
   "attachments": {},
   "cell_type": "markdown",
   "metadata": {},
   "source": [
    "### Numpy 배열 객체 복사"
   ]
  },
  {
   "cell_type": "code",
   "execution_count": 52,
   "metadata": {},
   "outputs": [
    {
     "name": "stdout",
     "output_type": "stream",
     "text": [
      "array1:  [0 1 2 3 4 5 6 7 8 9]\n",
      "array2:  [0 1 2 3 4 5 6 7 8 9]\n",
      "array1:  [99  1  2  3  4  5  6  7  8  9]\n"
     ]
    }
   ],
   "source": [
    "array1 = np.arange(0, 10)\n",
    "print(\"array1: \", array1)\n",
    "array2 = array1 #동일한 주소 가르킴\n",
    "print(\"array2: \", array2)\n",
    "array2[0] = 99\n",
    "print(\"array1: \", array1)\n",
    "\n",
    "# numpy 자체에서는 array1&2 같은 주소 가르키고 있기 때문에,\n",
    "# array2를 수정하더라도 array1도 같이 바뀐다!!"
   ]
  },
  {
   "cell_type": "code",
   "execution_count": 53,
   "metadata": {},
   "outputs": [
    {
     "name": "stdout",
     "output_type": "stream",
     "text": [
      "array1:  [0 1 2 3 4 5 6 7 8 9]\n",
      "array2:  [0 1 2 3 4 5 6 7 8 9]\n",
      "array1:  [0 1 2 3 4 5 6 7 8 9]\n"
     ]
    }
   ],
   "source": [
    "# 이런 사태를 예방하기 위해서 객체를 복사해서 사용한다\n",
    "\n",
    "array1 = np.arange(0, 10)\n",
    "print(\"array1: \", array1)\n",
    "array2 = array1.copy()           #복사\n",
    "print(\"array2: \", array2)\n",
    "array2[0] = 99                   #array1에 영향 끼치지 않음\n",
    "print(\"array1: \", array1)"
   ]
  },
  {
   "attachments": {},
   "cell_type": "markdown",
   "metadata": {},
   "source": [
    "### 중복된 원소 제거"
   ]
  },
  {
   "cell_type": "code",
   "execution_count": 54,
   "metadata": {},
   "outputs": [
    {
     "name": "stdout",
     "output_type": "stream",
     "text": [
      "[1 2 3 4]\n"
     ]
    }
   ],
   "source": [
    "# unique 사용\n",
    "array = np.array([1,1,2,2,2,3,3,4])\n",
    "print(np.unique(array))"
   ]
  }
 ],
 "metadata": {
  "kernelspec": {
   "display_name": "ds_base",
   "language": "python",
   "name": "python3"
  },
  "language_info": {
   "codemirror_mode": {
    "name": "ipython",
    "version": 3
   },
   "file_extension": ".py",
   "mimetype": "text/x-python",
   "name": "python",
   "nbconvert_exporter": "python",
   "pygments_lexer": "ipython3",
   "version": "3.9.16"
  },
  "orig_nbformat": 4
 },
 "nbformat": 4,
 "nbformat_minor": 2
}
