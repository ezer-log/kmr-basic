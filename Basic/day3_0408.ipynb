{
 "cells": [
  {
   "cell_type": "code",
   "execution_count": 1,
   "metadata": {},
   "outputs": [
    {
     "data": {
      "text/plain": [
       "(0, 1, 2, 3, 4, 5)"
      ]
     },
     "execution_count": 1,
     "metadata": {},
     "output_type": "execute_result"
    }
   ],
   "source": [
    "tuple_1 = (0, 1, 2, 3, 4, 5)\n",
    "tuple_1"
   ]
  },
  {
   "cell_type": "code",
   "execution_count": 2,
   "id": "f989471e",
   "metadata": {},
   "outputs": [
    {
     "data": {
      "text/plain": [
       "(0, 1, 2, 3, 4, 5)"
      ]
     },
     "execution_count": 2,
     "metadata": {},
     "output_type": "execute_result"
    }
   ],
   "source": [
    "tuple_2 = tuple(range(6))\n",
    "tuple_2"
   ]
  },
  {
   "cell_type": "code",
   "execution_count": 3,
   "id": "70f31096",
   "metadata": {},
   "outputs": [
    {
     "data": {
      "text/plain": [
       "([1, 2], [3, 4])"
      ]
     },
     "execution_count": 3,
     "metadata": {},
     "output_type": "execute_result"
    }
   ],
   "source": [
    "a = [1,2]\n",
    "b = [3,4]  \n",
    "c = (a,b)\n",
    "c\n",
    "# tuple은 immutable 한데 안에다 mutable한 list를 넣는것은 어느 장단에 맞춰야 할까?"
   ]
  },
  {
   "cell_type": "code",
   "execution_count": 4,
   "id": "387003c9",
   "metadata": {},
   "outputs": [
    {
     "ename": "TypeError",
     "evalue": "'tuple' object does not support item assignment",
     "output_type": "error",
     "traceback": [
      "\u001b[0;31m---------------------------------------------------------------------------\u001b[0m",
      "\u001b[0;31mTypeError\u001b[0m                                 Traceback (most recent call last)",
      "Cell \u001b[0;32mIn[4], line 1\u001b[0m\n\u001b[0;32m----> 1\u001b[0m c[\u001b[39m0\u001b[39;49m] \u001b[39m=\u001b[39m [\u001b[39m3\u001b[39m,\u001b[39m4\u001b[39m]\n",
      "\u001b[0;31mTypeError\u001b[0m: 'tuple' object does not support item assignment"
     ]
    }
   ],
   "source": [
    "c[0] = [3,4]"
   ]
  },
  {
   "cell_type": "code",
   "execution_count": 5,
   "id": "e6a5329c",
   "metadata": {},
   "outputs": [],
   "source": [
    "# c에 대한 a,b를 바꾸지는 못하지만"
   ]
  },
  {
   "cell_type": "code",
   "execution_count": 6,
   "id": "934fadd4",
   "metadata": {},
   "outputs": [],
   "source": [
    "set_2 = set(range(6))"
   ]
  },
  {
   "cell_type": "code",
   "execution_count": 7,
   "id": "b9a4c872",
   "metadata": {},
   "outputs": [
    {
     "data": {
      "text/plain": [
       "{0, 1, 2, 3, 4, 5}"
      ]
     },
     "execution_count": 7,
     "metadata": {},
     "output_type": "execute_result"
    }
   ],
   "source": [
    "set_2"
   ]
  },
  {
   "cell_type": "code",
   "execution_count": 9,
   "id": "de4d3094",
   "metadata": {},
   "outputs": [
    {
     "data": {
      "text/plain": [
       "{0, 1, 2, 3, 4, 5}"
      ]
     },
     "execution_count": 9,
     "metadata": {},
     "output_type": "execute_result"
    }
   ],
   "source": [
    "set_3 = set(map(int, '0 1 2 3 4 5'.split()))\n",
    "set_3"
   ]
  },
  {
   "cell_type": "code",
   "execution_count": 10,
   "id": "aa3d2a5b",
   "metadata": {},
   "outputs": [
    {
     "data": {
      "text/plain": [
       "{'Naver': 42.1, 'Samsung': 302.78, 'LG': 325.25, 'Sk': 73.1, 'Hyundai': 90.75}"
      ]
     },
     "execution_count": 10,
     "metadata": {},
     "output_type": "execute_result"
    }
   ],
   "source": [
    "prices = {\n",
    "    'Naver': 42.1,\n",
    "    'Samsung': 302.78,\n",
    "    'LG': 325.25,\n",
    "    'Sk': 73.10,\n",
    "    'Hyundai': 90.75\n",
    "}\n",
    "prices"
   ]
  },
  {
   "cell_type": "code",
   "execution_count": 11,
   "id": "2a4c7255",
   "metadata": {},
   "outputs": [
    {
     "name": "stdout",
     "output_type": "stream",
     "text": [
      "[100, 90, 'A']\n"
     ]
    }
   ],
   "source": [
    "# Nested List\n",
    "grades_list = [\n",
    "    ['001', 100, 90, 'A'], \n",
    "    ['002', 10, 30, 'D'], \n",
    "    ['003', 70, 80, 'B']\n",
    "]\n",
    "for student in grades_list:\n",
    "    if student[0] == '001':\n",
    "        print(student[1:])"
   ]
  },
  {
   "cell_type": "code",
   "execution_count": 12,
   "id": "c6537944",
   "metadata": {},
   "outputs": [],
   "source": [
    "# Dictionary\n",
    "grades_list = {\n",
    "    '001': [100, 90, 'A'], \n",
    "    '002': [10, 30, 'D'], \n",
    "    '003': [70, 80, 'B']\n",
    "}"
   ]
  },
  {
   "cell_type": "code",
   "execution_count": 13,
   "id": "45655a34",
   "metadata": {},
   "outputs": [
    {
     "data": {
      "text/plain": [
       "[100, 90, 'A']"
      ]
     },
     "execution_count": 13,
     "metadata": {},
     "output_type": "execute_result"
    }
   ],
   "source": [
    "grades_list['001']"
   ]
  },
  {
   "cell_type": "code",
   "execution_count": null,
   "id": "49e19a9c",
   "metadata": {},
   "outputs": [],
   "source": [
    "a = 1\n",
    "b = a\n",
    "c = a+1\n",
    "d = a\n",
    "# Cmd + Shift + L select all\n",
    "# Cmd + Fn + F2"
   ]
  }
 ],
 "metadata": {
  "kernelspec": {
   "display_name": "ds_base",
   "language": "python",
   "name": "python3"
  },
  "language_info": {
   "codemirror_mode": {
    "name": "ipython",
    "version": 3
   },
   "file_extension": ".py",
   "mimetype": "text/x-python",
   "name": "python",
   "nbconvert_exporter": "python",
   "pygments_lexer": "ipython3",
   "version": "3.9.16"
  }
 },
 "nbformat": 4,
 "nbformat_minor": 5
}
